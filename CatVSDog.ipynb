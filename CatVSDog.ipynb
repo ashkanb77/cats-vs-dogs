{
  "nbformat": 4,
  "nbformat_minor": 0,
  "metadata": {
    "colab": {
      "name": "CatVSDog.ipynb",
      "provenance": [],
      "collapsed_sections": [],
      "mount_file_id": "1lSfKxqjwrchgSsPh-cZWATOjsfqJXohb",
      "authorship_tag": "ABX9TyO+qLFcKIhERD3Oclp5B6L0",
      "include_colab_link": true
    },
    "kernelspec": {
      "name": "python3",
      "display_name": "Python 3"
    },
    "language_info": {
      "name": "python"
    },
    "accelerator": "GPU"
  },
  "cells": [
    {
      "cell_type": "markdown",
      "metadata": {
        "id": "view-in-github",
        "colab_type": "text"
      },
      "source": [
        "<a href=\"https://colab.research.google.com/github/ashkanb77/cats-vs-dogs/blob/main/CatVSDog.ipynb\" target=\"_parent\"><img src=\"https://colab.research.google.com/assets/colab-badge.svg\" alt=\"Open In Colab\"/></a>"
      ]
    },
    {
      "cell_type": "code",
      "source": [
        "import numpy as np\n",
        "from tensorflow.keras.models import Sequential\n",
        "from tensorflow.keras.layers import Conv2D, MaxPool2D, Dense, Flatten\n",
        "from tensorflow.keras.optimizers import Adam\n",
        "from tensorflow.keras.preprocessing.image import ImageDataGenerator"
      ],
      "metadata": {
        "id": "_in42wnuO-4o"
      },
      "execution_count": 1,
      "outputs": []
    },
    {
      "cell_type": "code",
      "source": [
        "! mkdir ~/.kaggle\n",
        "! cp kaggle.json ~/.kaggle/\n",
        "! chmod 600 ~/.kaggle/kaggle.json\n",
        "! kaggle datasets download -d shaunthesheep/microsoft-catsvsdogs-dataset"
      ],
      "metadata": {
        "colab": {
          "base_uri": "https://localhost:8080/"
        },
        "id": "ZUB4uDYdcBc2",
        "outputId": "b396a967-d92c-42ca-f1fe-cf9d0df2b6fe"
      },
      "execution_count": 2,
      "outputs": [
        {
          "output_type": "stream",
          "name": "stdout",
          "text": [
            "Downloading microsoft-catsvsdogs-dataset.zip to /content\n",
            " 99% 777M/788M [00:05<00:00, 140MB/s]\n",
            "100% 788M/788M [00:05<00:00, 139MB/s]\n"
          ]
        }
      ]
    },
    {
      "cell_type": "code",
      "source": [
        "def prepare_dataset(test_size):\n",
        "  import zipfile\n",
        "  import os\n",
        "  import shutil\n",
        "  from random import randint\n",
        "\n",
        "  zipfile.ZipFile('microsoft-catsvsdogs-dataset.zip').extractall('cats_vs_dogs')\n",
        "\n",
        "  os.makedirs('cats_vs_dogs/train')\n",
        "\n",
        "  shutil.move('cats_vs_dogs/PetImages/Cat', 'cats_vs_dogs/train')\n",
        "  shutil.move('cats_vs_dogs/PetImages/Dog', 'cats_vs_dogs/train')\n",
        "\n",
        "  os.makedirs('cats_vs_dogs/test/Cat')\n",
        "  os.makedirs('cats_vs_dogs/test/Dog')\n",
        "\n",
        "  l = os.listdir('cats_vs_dogs/train/Cat')\n",
        "  n = int(test_size * len(l))\n",
        "  for i in range(n):\n",
        "    r = l.pop(randint(0, len(l) - 1))\n",
        "    shutil.move('cats_vs_dogs/train/Cat/' + r, 'cats_vs_dogs/test/Cat/' + r)\n",
        "  \n",
        "\n",
        "  l = os.listdir('cats_vs_dogs/train/Dog')\n",
        "  n = int(test_size * len(l))\n",
        "  for i in range(n):\n",
        "    r = l.pop(randint(0, len(l) - 1))\n",
        "    shutil.move('cats_vs_dogs/train/Dog/' + r, 'cats_vs_dogs/test/Dog/' + r)\n",
        "\n",
        "prepare_dataset(0.1)"
      ],
      "metadata": {
        "id": "h2rGBsePcI_2"
      },
      "execution_count": 3,
      "outputs": []
    },
    {
      "cell_type": "code",
      "source": [
        "import os\n",
        "from PIL import Image\n",
        "folder_path = 'cats_vs_dogs/test'\n",
        "extensions = []\n",
        "for fldr in os.listdir(folder_path):\n",
        "    sub_folder_path = os.path.join(folder_path, fldr)\n",
        "    for filee in os.listdir(sub_folder_path):\n",
        "        file_path = os.path.join(sub_folder_path, filee)\n",
        "        print('** Path: {}  **'.format(file_path), end=\"\\r\", flush=True)\n",
        "        im = Image.open(file_path)\n",
        "        rgb_im = im.convert('RGB')\n",
        "        if filee.split('.')[1] not in extensions:\n",
        "            extensions.append(filee.split('.')[1])\n",
        "    "
      ],
      "metadata": {
        "colab": {
          "base_uri": "https://localhost:8080/"
        },
        "id": "rjj6PlbSe37D",
        "outputId": "0eb816d8-e9fb-4a6d-bc6a-b0919844f32a"
      },
      "execution_count": 28,
      "outputs": [
        {
          "output_type": "stream",
          "name": "stdout",
          "text": [
            ""
          ]
        },
        {
          "output_type": "stream",
          "name": "stderr",
          "text": [
            "/usr/local/lib/python3.7/dist-packages/PIL/TiffImagePlugin.py:770: UserWarning: Possibly corrupt EXIF data.  Expecting to read 32 bytes but only got 0. Skipping tag 270\n",
            "  \" Skipping tag %s\" % (size, len(data), tag)\n",
            "/usr/local/lib/python3.7/dist-packages/PIL/TiffImagePlugin.py:770: UserWarning: Possibly corrupt EXIF data.  Expecting to read 5 bytes but only got 0. Skipping tag 271\n",
            "  \" Skipping tag %s\" % (size, len(data), tag)\n",
            "/usr/local/lib/python3.7/dist-packages/PIL/TiffImagePlugin.py:770: UserWarning: Possibly corrupt EXIF data.  Expecting to read 8 bytes but only got 0. Skipping tag 272\n",
            "  \" Skipping tag %s\" % (size, len(data), tag)\n",
            "/usr/local/lib/python3.7/dist-packages/PIL/TiffImagePlugin.py:770: UserWarning: Possibly corrupt EXIF data.  Expecting to read 8 bytes but only got 0. Skipping tag 282\n",
            "  \" Skipping tag %s\" % (size, len(data), tag)\n",
            "/usr/local/lib/python3.7/dist-packages/PIL/TiffImagePlugin.py:770: UserWarning: Possibly corrupt EXIF data.  Expecting to read 8 bytes but only got 0. Skipping tag 283\n",
            "  \" Skipping tag %s\" % (size, len(data), tag)\n",
            "/usr/local/lib/python3.7/dist-packages/PIL/TiffImagePlugin.py:770: UserWarning: Possibly corrupt EXIF data.  Expecting to read 20 bytes but only got 0. Skipping tag 306\n",
            "  \" Skipping tag %s\" % (size, len(data), tag)\n",
            "/usr/local/lib/python3.7/dist-packages/PIL/TiffImagePlugin.py:770: UserWarning: Possibly corrupt EXIF data.  Expecting to read 48 bytes but only got 0. Skipping tag 532\n",
            "  \" Skipping tag %s\" % (size, len(data), tag)\n",
            "/usr/local/lib/python3.7/dist-packages/PIL/TiffImagePlugin.py:788: UserWarning: Corrupt EXIF data.  Expecting to read 2 bytes but only got 0. \n",
            "  warnings.warn(str(msg))\n"
          ]
        },
        {
          "output_type": "stream",
          "name": "stdout",
          "text": [
            ""
          ]
        }
      ]
    },
    {
      "cell_type": "code",
      "source": [
        "os.remove('cats_vs_dogs/train/Cat/Thumbs.db')"
      ],
      "metadata": {
        "id": "rkVhLmEFfp63"
      },
      "execution_count": 25,
      "outputs": []
    },
    {
      "cell_type": "code",
      "source": [
        "data_generator = ImageDataGenerator(\n",
        "    rescale=1/255, zoom_range=0.1, \n",
        "    horizontal_flip=True, vertical_flip=True,\n",
        "    rotation_range=50, width_shift_range=0.1, \n",
        "    height_shift_range=0.1, shear_range=0.1, fill_mode='nearest'\n",
        "    )"
      ],
      "metadata": {
        "id": "jGoccdYOf_ui"
      },
      "execution_count": 29,
      "outputs": []
    },
    {
      "cell_type": "code",
      "source": [
        "train = data_generator.flow_from_directory('cats_vs_dogs/train', class_mode='binary')"
      ],
      "metadata": {
        "colab": {
          "base_uri": "https://localhost:8080/"
        },
        "id": "QrqceefviBPq",
        "outputId": "6c124bad-3a9c-4739-bb08-42e5a9b3cec6"
      },
      "execution_count": 30,
      "outputs": [
        {
          "output_type": "stream",
          "name": "stdout",
          "text": [
            "Found 22498 images belonging to 2 classes.\n"
          ]
        }
      ]
    },
    {
      "cell_type": "code",
      "source": [
        "test = data_generator.flow_from_directory('cats_vs_dogs/test', class_mode='binary')"
      ],
      "metadata": {
        "colab": {
          "base_uri": "https://localhost:8080/"
        },
        "id": "v0CyKN_nie6O",
        "outputId": "1369a87c-8f74-472b-c5e0-9325bfa4f3fd"
      },
      "execution_count": 31,
      "outputs": [
        {
          "output_type": "stream",
          "name": "stdout",
          "text": [
            "Found 2500 images belonging to 2 classes.\n"
          ]
        }
      ]
    },
    {
      "cell_type": "code",
      "source": [
        "model = Sequential([\n",
        "                    Conv2D(32, (9, 9), activation='relu', input_shape=(256, 256, 3)),\n",
        "                    MaxPool2D(),\n",
        "                    Conv2D(64, (5, 5), activation='relu'),\n",
        "                    MaxPool2D(),\n",
        "                    Conv2D(32, (3, 3), activation='relu'),\n",
        "                    MaxPool2D(),\n",
        "                    Flatten(),\n",
        "                    Dense(256, activation='relu'),\n",
        "                    Dense(512, activation='relu'),\n",
        "                    Dense(1, activation='sigmoid')\n",
        "])"
      ],
      "metadata": {
        "id": "OWSgiLbGipa3"
      },
      "execution_count": 60,
      "outputs": []
    },
    {
      "cell_type": "code",
      "source": [
        "model.summary()"
      ],
      "metadata": {
        "colab": {
          "base_uri": "https://localhost:8080/"
        },
        "id": "ygjPNGpej0NM",
        "outputId": "9419907e-a3c4-4273-ae59-6d0f872f3e3c"
      },
      "execution_count": 61,
      "outputs": [
        {
          "output_type": "stream",
          "name": "stdout",
          "text": [
            "Model: \"sequential_11\"\n",
            "_________________________________________________________________\n",
            " Layer (type)                Output Shape              Param #   \n",
            "=================================================================\n",
            " conv2d_33 (Conv2D)          (None, 248, 248, 32)      7808      \n",
            "                                                                 \n",
            " max_pooling2d_30 (MaxPoolin  (None, 124, 124, 32)     0         \n",
            " g2D)                                                            \n",
            "                                                                 \n",
            " conv2d_34 (Conv2D)          (None, 120, 120, 64)      51264     \n",
            "                                                                 \n",
            " max_pooling2d_31 (MaxPoolin  (None, 60, 60, 64)       0         \n",
            " g2D)                                                            \n",
            "                                                                 \n",
            " conv2d_35 (Conv2D)          (None, 58, 58, 32)        18464     \n",
            "                                                                 \n",
            " max_pooling2d_32 (MaxPoolin  (None, 29, 29, 32)       0         \n",
            " g2D)                                                            \n",
            "                                                                 \n",
            " flatten_11 (Flatten)        (None, 26912)             0         \n",
            "                                                                 \n",
            " dense_33 (Dense)            (None, 256)               6889728   \n",
            "                                                                 \n",
            " dense_34 (Dense)            (None, 512)               131584    \n",
            "                                                                 \n",
            " dense_35 (Dense)            (None, 1)                 513       \n",
            "                                                                 \n",
            "=================================================================\n",
            "Total params: 7,099,361\n",
            "Trainable params: 7,099,361\n",
            "Non-trainable params: 0\n",
            "_________________________________________________________________\n"
          ]
        }
      ]
    },
    {
      "cell_type": "code",
      "source": [
        "model.compile(optimizer=Adam(), loss='binary_crossentropy', metrics=['accuracy'])"
      ],
      "metadata": {
        "id": "TadEYyGpj1--"
      },
      "execution_count": 62,
      "outputs": []
    },
    {
      "cell_type": "code",
      "source": [
        "model.fit(train, steps_per_epoch=len(train), validation_data=test, validation_steps=len(test), epochs=5)"
      ],
      "metadata": {
        "colab": {
          "base_uri": "https://localhost:8080/"
        },
        "id": "2piXgna4lQuV",
        "outputId": "072b15e0-8017-4344-9c54-1672783a3a9c"
      },
      "execution_count": 63,
      "outputs": [
        {
          "output_type": "stream",
          "name": "stdout",
          "text": [
            "Epoch 1/5\n",
            "704/704 [==============================] - ETA: 0s - loss: 0.7002 - accuracy: 0.5207"
          ]
        },
        {
          "output_type": "stream",
          "name": "stderr",
          "text": [
            "/usr/local/lib/python3.7/dist-packages/PIL/TiffImagePlugin.py:770: UserWarning: Possibly corrupt EXIF data.  Expecting to read 32 bytes but only got 0. Skipping tag 270\n",
            "  \" Skipping tag %s\" % (size, len(data), tag)\n",
            "/usr/local/lib/python3.7/dist-packages/PIL/TiffImagePlugin.py:770: UserWarning: Possibly corrupt EXIF data.  Expecting to read 5 bytes but only got 0. Skipping tag 271\n",
            "  \" Skipping tag %s\" % (size, len(data), tag)\n",
            "/usr/local/lib/python3.7/dist-packages/PIL/TiffImagePlugin.py:770: UserWarning: Possibly corrupt EXIF data.  Expecting to read 8 bytes but only got 0. Skipping tag 272\n",
            "  \" Skipping tag %s\" % (size, len(data), tag)\n",
            "/usr/local/lib/python3.7/dist-packages/PIL/TiffImagePlugin.py:770: UserWarning: Possibly corrupt EXIF data.  Expecting to read 8 bytes but only got 0. Skipping tag 282\n",
            "  \" Skipping tag %s\" % (size, len(data), tag)\n",
            "/usr/local/lib/python3.7/dist-packages/PIL/TiffImagePlugin.py:770: UserWarning: Possibly corrupt EXIF data.  Expecting to read 8 bytes but only got 0. Skipping tag 283\n",
            "  \" Skipping tag %s\" % (size, len(data), tag)\n",
            "/usr/local/lib/python3.7/dist-packages/PIL/TiffImagePlugin.py:770: UserWarning: Possibly corrupt EXIF data.  Expecting to read 20 bytes but only got 0. Skipping tag 306\n",
            "  \" Skipping tag %s\" % (size, len(data), tag)\n",
            "/usr/local/lib/python3.7/dist-packages/PIL/TiffImagePlugin.py:770: UserWarning: Possibly corrupt EXIF data.  Expecting to read 48 bytes but only got 0. Skipping tag 532\n",
            "  \" Skipping tag %s\" % (size, len(data), tag)\n",
            "/usr/local/lib/python3.7/dist-packages/PIL/TiffImagePlugin.py:788: UserWarning: Corrupt EXIF data.  Expecting to read 2 bytes but only got 0. \n",
            "  warnings.warn(str(msg))\n"
          ]
        },
        {
          "output_type": "stream",
          "name": "stdout",
          "text": [
            "\b\b\b\b\b\b\b\b\b\b\b\b\b\b\b\b\b\b\b\b\b\b\b\b\b\b\b\b\b\b\b\b\b\b\b\b\b\b\b\b\b\b\b\b\b\b\b\b\b\b\b\b\b\b\b\b\b\b\b\b\b\b\b\b\b\b\b\b\b\b\b\b\b\b\b\b\b\b\b\b\b\b\b\b\r704/704 [==============================] - 404s 573ms/step - loss: 0.7002 - accuracy: 0.5207 - val_loss: 0.6931 - val_accuracy: 0.5020\n",
            "Epoch 2/5\n",
            "704/704 [==============================] - 398s 566ms/step - loss: 0.6764 - accuracy: 0.5701 - val_loss: 0.6493 - val_accuracy: 0.6224\n",
            "Epoch 3/5\n",
            "704/704 [==============================] - 391s 556ms/step - loss: 0.6473 - accuracy: 0.6263 - val_loss: 0.6232 - val_accuracy: 0.6464\n",
            "Epoch 4/5\n",
            "704/704 [==============================] - 393s 558ms/step - loss: 0.6323 - accuracy: 0.6456 - val_loss: 0.6296 - val_accuracy: 0.6504\n",
            "Epoch 5/5\n",
            "704/704 [==============================] - 390s 554ms/step - loss: 0.6218 - accuracy: 0.6603 - val_loss: 0.6281 - val_accuracy: 0.6536\n"
          ]
        },
        {
          "output_type": "execute_result",
          "data": {
            "text/plain": [
              "<keras.callbacks.History at 0x7f3014c23b10>"
            ]
          },
          "metadata": {},
          "execution_count": 63
        }
      ]
    },
    {
      "cell_type": "code",
      "source": [
        ""
      ],
      "metadata": {
        "id": "r5QWjyDsh-Az"
      },
      "execution_count": null,
      "outputs": []
    }
  ]
}