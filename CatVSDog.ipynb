{
  "nbformat": 4,
  "nbformat_minor": 0,
  "metadata": {
    "colab": {
      "name": "CatVSDog.ipynb",
      "provenance": [],
      "collapsed_sections": [],
      "mount_file_id": "1lSfKxqjwrchgSsPh-cZWATOjsfqJXohb",
      "authorship_tag": "ABX9TyPf/fNtd1GLdoO9nATTpHGA",
      "include_colab_link": true
    },
    "kernelspec": {
      "name": "python3",
      "display_name": "Python 3"
    },
    "language_info": {
      "name": "python"
    },
    "accelerator": "GPU"
  },
  "cells": [
    {
      "cell_type": "markdown",
      "metadata": {
        "id": "view-in-github",
        "colab_type": "text"
      },
      "source": [
        "<a href=\"https://colab.research.google.com/github/ashkanb77/cats-vs-dogs/blob/main/CatVSDog.ipynb\" target=\"_parent\"><img src=\"https://colab.research.google.com/assets/colab-badge.svg\" alt=\"Open In Colab\"/></a>"
      ]
    },
    {
      "cell_type": "code",
      "source": [
        ""
      ],
      "metadata": {
        "id": "_in42wnuO-4o"
      },
      "execution_count": null,
      "outputs": []
    },
    {
      "cell_type": "code",
      "source": [
        "! mkdir ~/.kaggle\n",
        "! cp kaggle.json ~/.kaggle/\n",
        "! chmod 600 ~/.kaggle/kaggle.json\n",
        "! kaggle datasets download -d shaunthesheep/microsoft-catsvsdogs-dataset"
      ],
      "metadata": {
        "colab": {
          "base_uri": "https://localhost:8080/"
        },
        "id": "ZUB4uDYdcBc2",
        "outputId": "1bbd952a-1adb-4895-fa13-faf848147a3a"
      },
      "execution_count": 2,
      "outputs": [
        {
          "output_type": "stream",
          "name": "stdout",
          "text": [
            "mkdir: cannot create directory ‘/root/.kaggle’: File exists\n",
            "Downloading microsoft-catsvsdogs-dataset.zip to /content\n",
            " 98% 769M/788M [00:06<00:00, 132MB/s]\n",
            "100% 788M/788M [00:06<00:00, 126MB/s]\n"
          ]
        }
      ]
    },
    {
      "cell_type": "code",
      "source": [
        "def prepare_dataset(test_size):\n",
        "  import zipfile\n",
        "  import os\n",
        "  import shutil\n",
        "  from random import randint\n",
        "\n",
        "  zipfile.ZipFile('microsoft-catsvsdogs-dataset.zip').extractall('cats_vs_dogs')\n",
        "\n",
        "  os.makedirs('cats_vs_dogs/train')\n",
        "\n",
        "  shutil.move('cats_vs_dogs/PetImages/Cat', 'cats_vs_dogs/train')\n",
        "  shutil.move('cats_vs_dogs/PetImages/Dog', 'cats_vs_dogs/train')\n",
        "\n",
        "  os.makedirs('cats_vs_dogs/test/Cat')\n",
        "  os.makedirs('cats_vs_dogs/test/Dog')\n",
        "\n",
        "  l = os.listdir('cats_vs_dogs/train/Cat')\n",
        "  n = int(test_size * len(l))\n",
        "  for i in range(n):\n",
        "    r = l.pop(randint(0, len(l) - 1))\n",
        "    shutil.move('cats_vs_dogs/train/Cat/' + r, 'cats_vs_dogs/test/Cat/' + r)\n",
        "  \n",
        "\n",
        "  l = os.listdir('cats_vs_dogs/train/Dog')\n",
        "  n = int(test_size * len(l))\n",
        "  for i in range(n):\n",
        "    r = l.pop(randint(0, len(l) - 1))\n",
        "    shutil.move('cats_vs_dogs/train/Dog/' + r, 'cats_vs_dogs/test/Dog/' + r)\n",
        "\n",
        "prepare_dataset(0.1)"
      ],
      "metadata": {
        "id": "h2rGBsePcI_2"
      },
      "execution_count": 3,
      "outputs": []
    },
    {
      "cell_type": "code",
      "source": [
        "import PIL\n",
        "import os\n",
        "from PIL import Image\n",
        "folder_path = 'cats_vs_dogs/train'\n",
        "extensions = []\n",
        "for fldr in os.listdir(folder_path):\n",
        "    sub_folder_path = os.path.join(folder_path, fldr)\n",
        "    for filee in os.listdir(sub_folder_path):\n",
        "        file_path = os.path.join(sub_folder_path, filee)\n",
        "        print('** Path: {}  **'.format(file_path), end=\"\\r\", flush=True)\n",
        "        try:\n",
        "          im = Image.open(file_path)\n",
        "          rgb_im = im.convert('RGB')\n",
        "        except PIL.UnidentifiedImageError:\n",
        "          os.remove(file_path)\n",
        "        if filee.split('.')[1] not in extensions:\n",
        "            extensions.append(filee.split('.')[1])\n",
        "    "
      ],
      "metadata": {
        "colab": {
          "base_uri": "https://localhost:8080/"
        },
        "id": "rjj6PlbSe37D",
        "outputId": "b675974a-e2f1-4902-833e-60cc7a9f7fed"
      },
      "execution_count": 4,
      "outputs": [
        {
          "output_type": "stream",
          "name": "stdout",
          "text": [
            ""
          ]
        }
      ]
    },
    {
      "cell_type": "code",
      "source": [
        "import numpy as np\n",
        "from tensorflow.keras.models import Sequential\n",
        "from tensorflow.keras.layers import Conv2D, MaxPool2D, Dense, Flatten\n",
        "from tensorflow.keras.optimizers import Adam\n",
        "from tensorflow.keras.preprocessing.image import ImageDataGenerator\n",
        "from tensorflow.keras.callbacks import ModelCheckpoint, ReduceLROnPlateau, EarlyStopping"
      ],
      "metadata": {
        "id": "5SEM1TdF3K0V"
      },
      "execution_count": 6,
      "outputs": []
    },
    {
      "cell_type": "code",
      "source": [
        "data_generator = ImageDataGenerator(rescale=1./255.)"
      ],
      "metadata": {
        "id": "jGoccdYOf_ui"
      },
      "execution_count": 7,
      "outputs": []
    },
    {
      "cell_type": "code",
      "source": [
        "train = data_generator.flow_from_directory('cats_vs_dogs/train', class_mode='binary', batch_size=100, target_size=(128, 128))"
      ],
      "metadata": {
        "colab": {
          "base_uri": "https://localhost:8080/"
        },
        "id": "QrqceefviBPq",
        "outputId": "6b273119-4604-4d34-eb02-9beab9cf47e5"
      },
      "execution_count": 9,
      "outputs": [
        {
          "output_type": "stream",
          "name": "stdout",
          "text": [
            "Found 22499 images belonging to 2 classes.\n"
          ]
        }
      ]
    },
    {
      "cell_type": "code",
      "source": [
        "test = data_generator.flow_from_directory('cats_vs_dogs/test', class_mode='binary', batch_size=100, target_size=(128, 128))"
      ],
      "metadata": {
        "colab": {
          "base_uri": "https://localhost:8080/"
        },
        "id": "v0CyKN_nie6O",
        "outputId": "759336c9-70d1-46ad-dc82-4afbd0f1a818"
      },
      "execution_count": 10,
      "outputs": [
        {
          "output_type": "stream",
          "name": "stdout",
          "text": [
            "Found 2499 images belonging to 2 classes.\n"
          ]
        }
      ]
    },
    {
      "cell_type": "code",
      "source": [
        "es = EarlyStopping(monitor='val_loss', mode='min', patience=7)\n",
        "rlr = ReduceLROnPlateau(monitor='val_loss', mode='min', patience=10, min_lr=0.0001, factor=0.2)\n",
        "check = ModelCheckpoint('cat_vs_dog.h5', monitor='val_loss', save_best_only=True)"
      ],
      "metadata": {
        "id": "UYTY5E6r4ui6"
      },
      "execution_count": 11,
      "outputs": []
    },
    {
      "cell_type": "code",
      "source": [
        "model = Sequential([\n",
        "                    Conv2D(32, (9, 9), activation='relu', input_shape=(128, 128, 3)),\n",
        "                    Conv2D(64, (5, 5), activation='relu'),\n",
        "                    MaxPool2D(),\n",
        "                    Conv2D(64, (3, 3), activation='relu'),\n",
        "                    MaxPool2D(),\n",
        "                    Conv2D(128, (3, 3), activation='relu'),\n",
        "                    MaxPool2D(),\n",
        "                    Conv2D(256, (3, 3), activation='relu'),\n",
        "                    MaxPool2D(),\n",
        "                    Flatten(),\n",
        "                    Dense(256, activation='tanh'),\n",
        "                    Dense(128, activation='relu'),\n",
        "                    Dense(1, activation='sigmoid')\n",
        "])"
      ],
      "metadata": {
        "id": "OWSgiLbGipa3"
      },
      "execution_count": 41,
      "outputs": []
    },
    {
      "cell_type": "code",
      "source": [
        "model.summary()"
      ],
      "metadata": {
        "colab": {
          "base_uri": "https://localhost:8080/"
        },
        "id": "ygjPNGpej0NM",
        "outputId": "67894748-d3a1-46e7-cf66-bedbf1a1d45e"
      },
      "execution_count": 42,
      "outputs": [
        {
          "output_type": "stream",
          "name": "stdout",
          "text": [
            "Model: \"sequential_12\"\n",
            "_________________________________________________________________\n",
            " Layer (type)                Output Shape              Param #   \n",
            "=================================================================\n",
            " conv2d_52 (Conv2D)          (None, 120, 120, 32)      7808      \n",
            "                                                                 \n",
            " conv2d_53 (Conv2D)          (None, 116, 116, 64)      51264     \n",
            "                                                                 \n",
            " max_pooling2d_49 (MaxPoolin  (None, 58, 58, 64)       0         \n",
            " g2D)                                                            \n",
            "                                                                 \n",
            " conv2d_54 (Conv2D)          (None, 56, 56, 64)        36928     \n",
            "                                                                 \n",
            " max_pooling2d_50 (MaxPoolin  (None, 28, 28, 64)       0         \n",
            " g2D)                                                            \n",
            "                                                                 \n",
            " conv2d_55 (Conv2D)          (None, 26, 26, 128)       73856     \n",
            "                                                                 \n",
            " max_pooling2d_51 (MaxPoolin  (None, 13, 13, 128)      0         \n",
            " g2D)                                                            \n",
            "                                                                 \n",
            " conv2d_56 (Conv2D)          (None, 11, 11, 256)       295168    \n",
            "                                                                 \n",
            " max_pooling2d_52 (MaxPoolin  (None, 5, 5, 256)        0         \n",
            " g2D)                                                            \n",
            "                                                                 \n",
            " flatten_12 (Flatten)        (None, 6400)              0         \n",
            "                                                                 \n",
            " dense_32 (Dense)            (None, 256)               1638656   \n",
            "                                                                 \n",
            " dense_33 (Dense)            (None, 128)               32896     \n",
            "                                                                 \n",
            " dense_34 (Dense)            (None, 1)                 129       \n",
            "                                                                 \n",
            "=================================================================\n",
            "Total params: 2,136,705\n",
            "Trainable params: 2,136,705\n",
            "Non-trainable params: 0\n",
            "_________________________________________________________________\n"
          ]
        }
      ]
    },
    {
      "cell_type": "code",
      "source": [
        "model.compile(optimizer=Adam(), loss='binary_crossentropy', metrics=['accuracy'])"
      ],
      "metadata": {
        "id": "TadEYyGpj1--"
      },
      "execution_count": 43,
      "outputs": []
    },
    {
      "cell_type": "code",
      "source": [
        "history = model.fit(train, steps_per_epoch=len(train), validation_data=test, validation_steps=len(test), epochs=10, callbacks=[es, rlr, check])"
      ],
      "metadata": {
        "colab": {
          "base_uri": "https://localhost:8080/"
        },
        "id": "2piXgna4lQuV",
        "outputId": "e5e0a4dd-794b-4793-9912-5f90bc2ecace"
      },
      "execution_count": 44,
      "outputs": [
        {
          "output_type": "stream",
          "name": "stdout",
          "text": [
            "Epoch 1/10\n",
            "225/225 [==============================] - ETA: 0s - loss: 0.6946 - accuracy: 0.5144"
          ]
        },
        {
          "output_type": "stream",
          "name": "stderr",
          "text": [
            "/usr/local/lib/python3.7/dist-packages/PIL/TiffImagePlugin.py:770: UserWarning: Possibly corrupt EXIF data.  Expecting to read 32 bytes but only got 0. Skipping tag 270\n",
            "  \" Skipping tag %s\" % (size, len(data), tag)\n",
            "/usr/local/lib/python3.7/dist-packages/PIL/TiffImagePlugin.py:770: UserWarning: Possibly corrupt EXIF data.  Expecting to read 5 bytes but only got 0. Skipping tag 271\n",
            "  \" Skipping tag %s\" % (size, len(data), tag)\n",
            "/usr/local/lib/python3.7/dist-packages/PIL/TiffImagePlugin.py:770: UserWarning: Possibly corrupt EXIF data.  Expecting to read 8 bytes but only got 0. Skipping tag 272\n",
            "  \" Skipping tag %s\" % (size, len(data), tag)\n",
            "/usr/local/lib/python3.7/dist-packages/PIL/TiffImagePlugin.py:770: UserWarning: Possibly corrupt EXIF data.  Expecting to read 8 bytes but only got 0. Skipping tag 282\n",
            "  \" Skipping tag %s\" % (size, len(data), tag)\n",
            "/usr/local/lib/python3.7/dist-packages/PIL/TiffImagePlugin.py:770: UserWarning: Possibly corrupt EXIF data.  Expecting to read 8 bytes but only got 0. Skipping tag 283\n",
            "  \" Skipping tag %s\" % (size, len(data), tag)\n",
            "/usr/local/lib/python3.7/dist-packages/PIL/TiffImagePlugin.py:770: UserWarning: Possibly corrupt EXIF data.  Expecting to read 20 bytes but only got 0. Skipping tag 306\n",
            "  \" Skipping tag %s\" % (size, len(data), tag)\n",
            "/usr/local/lib/python3.7/dist-packages/PIL/TiffImagePlugin.py:770: UserWarning: Possibly corrupt EXIF data.  Expecting to read 48 bytes but only got 0. Skipping tag 532\n",
            "  \" Skipping tag %s\" % (size, len(data), tag)\n",
            "/usr/local/lib/python3.7/dist-packages/PIL/TiffImagePlugin.py:788: UserWarning: Corrupt EXIF data.  Expecting to read 2 bytes but only got 0. \n",
            "  warnings.warn(str(msg))\n"
          ]
        },
        {
          "output_type": "stream",
          "name": "stdout",
          "text": [
            "\b\b\b\b\b\b\b\b\b\b\b\b\b\b\b\b\b\b\b\b\b\b\b\b\b\b\b\b\b\b\b\b\b\b\b\b\b\b\b\b\b\b\b\b\b\b\b\b\b\b\b\b\b\b\b\b\b\b\b\b\b\b\b\b\b\b\b\b\b\b\b\b\b\b\b\b\b\b\b\b\b\b\b\b\r225/225 [==============================] - 78s 336ms/step - loss: 0.6946 - accuracy: 0.5144 - val_loss: 0.6813 - val_accuracy: 0.5738 - lr: 0.0010\n",
            "Epoch 2/10\n",
            "225/225 [==============================] - 73s 324ms/step - loss: 0.6723 - accuracy: 0.5790 - val_loss: 0.6714 - val_accuracy: 0.6230 - lr: 0.0010\n",
            "Epoch 3/10\n",
            "225/225 [==============================] - 73s 324ms/step - loss: 0.6328 - accuracy: 0.6415 - val_loss: 0.6215 - val_accuracy: 0.6547 - lr: 0.0010\n",
            "Epoch 4/10\n",
            "225/225 [==============================] - 73s 325ms/step - loss: 0.5796 - accuracy: 0.6919 - val_loss: 0.5701 - val_accuracy: 0.7103 - lr: 0.0010\n",
            "Epoch 5/10\n",
            "225/225 [==============================] - 73s 323ms/step - loss: 0.5296 - accuracy: 0.7331 - val_loss: 0.5314 - val_accuracy: 0.7351 - lr: 0.0010\n",
            "Epoch 6/10\n",
            "225/225 [==============================] - 73s 322ms/step - loss: 0.4885 - accuracy: 0.7640 - val_loss: 0.5085 - val_accuracy: 0.7491 - lr: 0.0010\n",
            "Epoch 7/10\n",
            "225/225 [==============================] - 73s 322ms/step - loss: 0.4316 - accuracy: 0.8015 - val_loss: 0.4755 - val_accuracy: 0.7703 - lr: 0.0010\n",
            "Epoch 8/10\n",
            "225/225 [==============================] - 72s 321ms/step - loss: 0.3862 - accuracy: 0.8241 - val_loss: 0.4854 - val_accuracy: 0.7703 - lr: 0.0010\n",
            "Epoch 9/10\n",
            "225/225 [==============================] - 72s 321ms/step - loss: 0.3501 - accuracy: 0.8431 - val_loss: 0.4672 - val_accuracy: 0.7943 - lr: 0.0010\n",
            "Epoch 10/10\n",
            "225/225 [==============================] - 72s 320ms/step - loss: 0.2937 - accuracy: 0.8707 - val_loss: 0.4974 - val_accuracy: 0.7907 - lr: 0.0010\n"
          ]
        }
      ]
    },
    {
      "cell_type": "code",
      "source": [
        ""
      ],
      "metadata": {
        "id": "r5QWjyDsh-Az"
      },
      "execution_count": null,
      "outputs": []
    }
  ]
}